{
 "cells": [
  {
   "cell_type": "code",
   "execution_count": 1,
   "metadata": {},
   "outputs": [],
   "source": [
    "from osgeo import ogr\n",
    "import os"
   ]
  },
  {
   "cell_type": "code",
   "execution_count": 6,
   "metadata": {},
   "outputs": [
    {
     "name": "stderr",
     "output_type": "stream",
     "text": [
      "Warning 6: Normalized/laundered field name: 'popsqkm' to 'popsqkm_3'\n"
     ]
    }
   ],
   "source": [
    "census_fn = os.path.join('data', 'ca_census_albers.shp')\n",
    "census_ds = ogr.Open(census_fn, True)\n",
    "census_lyr = census_ds.GetLayer()\n",
    "density_field = ogr.FieldDefn('popsqkm', ogr.OFTReal)\n",
    "census_lyr.CreateField(density_field)\n",
    "for row in census_lyr:\n",
    "    pop = row.GetField('HD01_S001')\n",
    "    sqkm = row.geometry().GetArea() / 1000000\n",
    "    row.SetField('popsqkm', pop / sqkm)\n",
    "    census_lyr.SetFeature(row)"
   ]
  },
  {
   "cell_type": "code",
   "execution_count": 13,
   "metadata": {},
   "outputs": [
    {
     "name": "stdout",
     "output_type": "stream",
     "text": [
      "<class 'osgeo.gdal.Dataset'>\n",
      "<class 'osgeo.gdal.Band'>\n",
      "1\n",
      "1830\n",
      "1830\n"
     ]
    },
    {
     "ename": "AttributeError",
     "evalue": "'Band' object has no attribute 'RasterXsize'",
     "output_type": "error",
     "traceback": [
      "\u001b[0;31m---------------------------------------------------------------------------\u001b[0m",
      "\u001b[0;31mAttributeError\u001b[0m                            Traceback (most recent call last)",
      "Cell \u001b[0;32mIn[13], line 18\u001b[0m\n\u001b[1;32m     16\u001b[0m \u001b[39mprint\u001b[39m(in_ds\u001b[39m.\u001b[39mRasterXSize)\n\u001b[1;32m     17\u001b[0m \u001b[39mprint\u001b[39m(in_band\u001b[39m.\u001b[39mXSize)\n\u001b[0;32m---> 18\u001b[0m \u001b[39mprint\u001b[39m(in_band\u001b[39m.\u001b[39;49mRasterXsize)\n",
      "File \u001b[0;32m~/git_repos/geospatial_analysis/venv/lib/python3.10/site-packages/osgeo/gdal.py:3715\u001b[0m, in \u001b[0;36mBand.<lambda>\u001b[0;34m(self, name)\u001b[0m\n\u001b[1;32m   3713\u001b[0m \u001b[39mfor\u001b[39;00m _s \u001b[39min\u001b[39;00m [MajorObject]:\n\u001b[1;32m   3714\u001b[0m     __swig_getmethods__\u001b[39m.\u001b[39mupdate(\u001b[39mgetattr\u001b[39m(_s, \u001b[39m'\u001b[39m\u001b[39m__swig_getmethods__\u001b[39m\u001b[39m'\u001b[39m, {}))\n\u001b[0;32m-> 3715\u001b[0m \u001b[39m__getattr__\u001b[39m \u001b[39m=\u001b[39m \u001b[39mlambda\u001b[39;00m \u001b[39mself\u001b[39m, name: _swig_getattr(\u001b[39mself\u001b[39;49m, Band, name)\n\u001b[1;32m   3717\u001b[0m \u001b[39mdef\u001b[39;00m \u001b[39m__init__\u001b[39m(\u001b[39mself\u001b[39m, \u001b[39m*\u001b[39margs, \u001b[39m*\u001b[39m\u001b[39m*\u001b[39mkwargs):\n\u001b[1;32m   3718\u001b[0m     \u001b[39mraise\u001b[39;00m \u001b[39mAttributeError\u001b[39;00m(\u001b[39m\"\u001b[39m\u001b[39mNo constructor defined\u001b[39m\u001b[39m\"\u001b[39m)\n",
      "File \u001b[0;32m~/git_repos/geospatial_analysis/venv/lib/python3.10/site-packages/osgeo/gdal.py:80\u001b[0m, in \u001b[0;36m_swig_getattr\u001b[0;34m(self, class_type, name)\u001b[0m\n\u001b[1;32m     78\u001b[0m \u001b[39mif\u001b[39;00m method:\n\u001b[1;32m     79\u001b[0m     \u001b[39mreturn\u001b[39;00m method(\u001b[39mself\u001b[39m)\n\u001b[0;32m---> 80\u001b[0m \u001b[39mraise\u001b[39;00m \u001b[39mAttributeError\u001b[39;00m(\u001b[39m\"\u001b[39m\u001b[39m'\u001b[39m\u001b[39m%s\u001b[39;00m\u001b[39m'\u001b[39m\u001b[39m object has no attribute \u001b[39m\u001b[39m'\u001b[39m\u001b[39m%s\u001b[39;00m\u001b[39m'\u001b[39m\u001b[39m\"\u001b[39m \u001b[39m%\u001b[39m (class_type\u001b[39m.\u001b[39m\u001b[39m__name__\u001b[39m, name))\n",
      "\u001b[0;31mAttributeError\u001b[0m: 'Band' object has no attribute 'RasterXsize'"
     ]
    }
   ],
   "source": [
    "#Listing9.1 create my first tif file!!\n",
    "import os\n",
    "from osgeo import gdal\n",
    "from pathlib import Path\n",
    "\n",
    "base=Path(\"sentinel\")\n",
    "b2=base/\"T54STD_20230306T013659_B02_60m.jp2\"\n",
    "b3=base/\"T54STD_20230306T013659_B03_60m.jp2\"\n",
    "b4=b2=base/\"T54STD_20230306T013659_B04_60m.jp2\"\n",
    "\n",
    "in_ds=gdal.Open(str(b2))\n",
    "in_band=in_ds.GetRasterBand(1)\n",
    "print(type(in_ds))\n",
    "print(type(in_band))\n",
    "print(in_ds.RasterCount)\n",
    "print(in_ds.RasterXSize)\n",
    "print(in_band.XSize)\n"
   ]
  },
  {
   "cell_type": "code",
   "execution_count": 5,
   "metadata": {},
   "outputs": [
    {
     "name": "stdout",
     "output_type": "stream",
     "text": [
      "PROJCS[\"WGS 84 / UTM zone 54N\",GEOGCS[\"WGS 84\",DATUM[\"WGS_1984\",SPHEROID[\"WGS 84\",6378137,298.257223563,AUTHORITY[\"EPSG\",\"7030\"]],AUTHORITY[\"EPSG\",\"6326\"]],PRIMEM[\"Greenwich\",0,AUTHORITY[\"EPSG\",\"8901\"]],UNIT[\"degree\",0.0174532925199433,AUTHORITY[\"EPSG\",\"9122\"]],AUTHORITY[\"EPSG\",\"4326\"]],PROJECTION[\"Transverse_Mercator\"],PARAMETER[\"latitude_of_origin\",0],PARAMETER[\"central_meridian\",141],PARAMETER[\"scale_factor\",0.9996],PARAMETER[\"false_easting\",500000],PARAMETER[\"false_northing\",0],UNIT[\"metre\",1,AUTHORITY[\"EPSG\",\"9001\"]],AXIS[\"Easting\",EAST],AXIS[\"Northing\",NORTH],AUTHORITY[\"EPSG\",\"32654\"]]\n",
      "(199980.0, 60.0, 0.0, 3900000.0, 0.0, -60.0)\n",
      "2\n"
     ]
    },
    {
     "data": {
      "text/plain": [
       "0"
      ]
     },
     "execution_count": 5,
     "metadata": {},
     "output_type": "execute_result"
    }
   ],
   "source": [
    "# tiff作成(ファイル名、配列サイズ、,種類(8bit画像とか))\n",
    "#srsの投入\n",
    "#originの情報と1ピクセルの縮尺\n",
    "#各バンドの配列を各バンドに放り込むｓ\n",
    "\n",
    "driver=gdal.GetDriverByName(\"GTiff\")\n",
    "out_ds=driver.Create(\"nat_colof.tif\",in_band.XSize,in_band.YSize,3,in_band.DataType)\n",
    "out_ds.SetProjection(in_ds.GetProjection())\n",
    "print(in_ds.GetProjection())\n",
    "print(in_ds.GetGeoTransform())\n",
    "print(in_band.DataType)\n",
    "out_ds.SetGeoTransform(in_ds.GetGeoTransform())"
   ]
  },
  {
   "cell_type": "code",
   "execution_count": 10,
   "metadata": {},
   "outputs": [
    {
     "data": {
      "text/plain": [
       "0"
      ]
     },
     "execution_count": 10,
     "metadata": {},
     "output_type": "execute_result"
    }
   ],
   "source": [
    "in_data=in_band.ReadAsArray()\n",
    "out_band=out_ds.GetRasterBand(3)\n",
    "out_band.WriteArray(in_data)"
   ]
  },
  {
   "cell_type": "code",
   "execution_count": 12,
   "metadata": {},
   "outputs": [
    {
     "data": {
      "text/plain": [
       "0"
      ]
     },
     "execution_count": 12,
     "metadata": {},
     "output_type": "execute_result"
    }
   ],
   "source": [
    "in_ds=gdal.Open(str(b2))\n",
    "out_band=out_ds.GetRasterBand(2)\n",
    "out_band.WriteArray(in_ds.ReadAsArray())"
   ]
  },
  {
   "cell_type": "code",
   "execution_count": 14,
   "metadata": {},
   "outputs": [],
   "source": [
    "out_ds.GetRasterBand(1).WriteArray(gdal.Open(str(b3)).ReadAsArray())\n",
    "out_ds.FlushCache()"
   ]
  },
  {
   "cell_type": "code",
   "execution_count": 17,
   "metadata": {},
   "outputs": [],
   "source": [
    "for i in range(1, 4):\n",
    "    out_ds.GetRasterBand(i).ComputeStatistics(False)\n",
    "\n",
    "# Build overview layers for faster display.\n",
    "out_ds.BuildOverviews('average', [2, 4, 8, 16, 32])\n",
    "del out_ds"
   ]
  },
  {
   "cell_type": "code",
   "execution_count": 21,
   "metadata": {},
   "outputs": [
    {
     "name": "stdout",
     "output_type": "stream",
     "text": [
      "None\n"
     ]
    }
   ],
   "source": [
    "in_ds.GetRasterBand(1)\n",
    "in_band.GetBlockSize()\n",
    "print(in_band.GetNoDataValue())"
   ]
  },
  {
   "cell_type": "code",
   "execution_count": 1,
   "metadata": {},
   "outputs": [],
   "source": [
    "# realworld coordinate\n"
   ]
  },
  {
   "cell_type": "code",
   "execution_count": 11,
   "metadata": {},
   "outputs": [
    {
     "name": "stdout",
     "output_type": "stream",
     "text": [
      "(343724.25, 28.5, 0.0, 5369585.25, 0.0, -28.5)\n",
      "4\n",
      "[[[ 31]]\n",
      "\n",
      " [[ 46]]\n",
      "\n",
      " [[ 57]]\n",
      "\n",
      " [[255]]]\n"
     ]
    }
   ],
   "source": [
    "import os\n",
    "from osgeo import gdal\n",
    "\n",
    "in_ds=gdal.Open(\"data/nat_color.tif\")\n",
    "in_gt=in_ds.GetGeoTransform()\n",
    "\n",
    "#xの原点の座標、回転,ピクセルサイズ、\n",
    "#yの原点の座標、、回転,ピクセルサイズ(北上ならnegatives)\n",
    "print(in_gt)\n",
    "print(in_ds.RasterCount)\n",
    "\n",
    "inv=gdal.InvGeoTransform(in_gt)\n",
    "#画像でグロ塗りの部分を調べてみる\n",
    "offsets=gdal.ApplyGeoTransform(inv,500832,5274316)#357107,5341747)\n",
    "x,y=map(int,offsets)\n",
    "print(in_ds.ReadAsArray(x,y,1,1))\n"
   ]
  },
  {
   "cell_type": "code",
   "execution_count": 12,
   "metadata": {},
   "outputs": [],
   "source": [
    "import os\n",
    "from osgeo import gdal\n",
    "\n",
    "# Coordinates for the bounding box to extract.\n",
    "vashon_ulx, vashon_uly = 532000, 5262600\n",
    "vashon_lrx, vashon_lry = 548500, 5241500\n",
    "\n",
    "# Don't forget to change the directory.\n",
    "#')\n",
    "in_ds = gdal.Open('data/nat_color.tif')\n",
    "\n",
    "# Create an inverse geotransform for the raster. This converts real-world\n",
    "# coordinates to pixel offsets.\n",
    "in_gt = in_ds.GetGeoTransform()\n",
    "inv_gt = gdal.InvGeoTransform(in_gt)\n",
    "if gdal.VersionInfo()[0] == '1':\n",
    "    if inv_gt[0] == 1:\n",
    "        inv_gt = inv_gt[1]\n",
    "    else:\n",
    "        raise RuntimeError('Inverse geotransform failed')\n",
    "elif inv_gt is None:\n",
    "    raise RuntimeError('Inverse geotransform failed')\n",
    "\n",
    "# Get the offsets that correspond to the bounding box corner coordinates.\n",
    "offsets_ul = gdal.ApplyGeoTransform(\n",
    "    inv_gt, vashon_ulx, vashon_uly)\n",
    "offsets_lr = gdal.ApplyGeoTransform(\n",
    "    inv_gt, vashon_lrx, vashon_lry)\n",
    "\n",
    "# The offsets are returned as floating point, but we need integers.\n",
    "off_ulx, off_uly = map(int, offsets_ul)\n",
    "off_lrx, off_lry = map(int, offsets_lr)\n",
    "\n",
    "# Compute the numbers of rows and columns to extract, based on the offsets.\n",
    "rows = off_lry - off_uly\n",
    "columns = off_lrx - off_ulx\n",
    "\n",
    "# Create an output raster with the correct number of rows and columns.\n",
    "gtiff_driver = gdal.GetDriverByName('GTiff')\n",
    "out_ds = gtiff_driver.Create('data/vashon.tif', columns, rows, 3)\n",
    "out_ds.SetProjection(in_ds.GetProjection())\n",
    "\n",
    "# Convert the offsets to real-world coordinates for the georeferencing info.\n",
    "# We can't use the coordinates above because they don't correspond to the\n",
    "# pixel edges.\n",
    "subset_ulx, subset_uly = gdal.ApplyGeoTransform(\n",
    "    in_gt, off_ulx, off_uly)\n",
    "out_gt = list(in_gt)\n",
    "out_gt[0] = subset_ulx\n",
    "out_gt[3] = subset_uly\n",
    "out_ds.SetGeoTransform(out_gt)\n",
    "\n",
    "# Loop through the 3 bands.\n",
    "for i in range(1, 4):\n",
    "    in_band = in_ds.GetRasterBand(i)\n",
    "    out_band = out_ds.GetRasterBand(i)\n",
    "\n",
    "    # Read the data from the input raster starting at the computed offsets.\n",
    "    data = in_band.ReadAsArray(\n",
    "        off_ulx, off_uly, columns, rows)\n",
    "\n",
    "    # Write the data to the output, but no offsets are needed because we're\n",
    "    # filling the entire image.\n",
    "    out_band.WriteArray(data)\n",
    "\n",
    "del out_ds"
   ]
  },
  {
   "cell_type": "code",
   "execution_count": null,
   "metadata": {},
   "outputs": [],
   "source": []
  }
 ],
 "metadata": {
  "kernelspec": {
   "display_name": "venv",
   "language": "python",
   "name": "python3"
  },
  "language_info": {
   "codemirror_mode": {
    "name": "ipython",
    "version": 3
   },
   "file_extension": ".py",
   "mimetype": "text/x-python",
   "name": "python",
   "nbconvert_exporter": "python",
   "pygments_lexer": "ipython3",
   "version": "3.10.6"
  },
  "orig_nbformat": 4
 },
 "nbformat": 4,
 "nbformat_minor": 2
}
