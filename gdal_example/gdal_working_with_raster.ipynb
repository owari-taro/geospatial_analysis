{
 "cells": [
  {
   "cell_type": "code",
   "execution_count": null,
   "metadata": {},
   "outputs": [],
   "source": [
    "\n",
    "import os\n",
    "import shutil\n",
    "from osgeo import gdal, osr\n",
    "\n",
    "# Don't forget to change the directory.\n",
    "# Make a copy of the original image so we're leaving it alone and changing\n",
    "# the new one. Try opening the original in a GIS. It doesn't have any\n",
    "# SRS info and the upper left corner should have coordinates of 0,0.\n",
    "\n",
    "shutil.copy('data/cache_no_gcp.tif', 'data/cache.tif')\n",
    "\n",
    "# Open the copied image so we can add GCPs to it.\n",
    "ds = gdal.Open('data/cache.tif', gdal.GA_Update)\n",
    "\n",
    "# Create the SRS that the GCP coordinates use.\n",
    "sr = osr.SpatialReference()\n",
    "sr.SetWellKnownGeogCS('WGS84')\n",
    "\n",
    "# Create the list of GCPs.\n",
    "gcps = [gdal.GCP(-111.931075, 41.745836, 0, 1078, 648),\n",
    "        gdal.GCP(-111.901655, 41.749269, 0, 3531, 295),\n",
    "        gdal.GCP(-111.899180, 41.739882, 0, 3722, 1334),\n",
    "        gdal.GCP(-111.930510, 41.728719, 0, 1102, 2548)]\n",
    "\n",
    "# Add the GCPs to the raster\n",
    "ds.SetGCPs(gcps, sr.ExportToWkt())\n",
    "ds.SetProjection(sr.ExportToWkt())\n",
    "ds = None\n"
   ]
  }
 ],
 "metadata": {
  "language_info": {
   "name": "python"
  },
  "orig_nbformat": 4
 },
 "nbformat": 4,
 "nbformat_minor": 2
}
