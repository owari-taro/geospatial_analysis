{
 "cells": [
  {
   "cell_type": "code",
   "execution_count": 1,
   "metadata": {},
   "outputs": [
    {
     "name": "stderr",
     "output_type": "stream",
     "text": [
      "/home/tarob/git_repos/geospatial_analysis/venv/lib/python3.10/site-packages/tqdm/auto.py:21: TqdmWarning: IProgress not found. Please update jupyter and ipywidgets. See https://ipywidgets.readthedocs.io/en/stable/user_install.html\n",
      "  from .autonotebook import tqdm as notebook_tqdm\n"
     ]
    }
   ],
   "source": [
    "'''\n",
    "just copying from official documents 'quick start'\n",
    "'''\n",
    "\n",
    "from sentinelsat import SentinelAPI, read_geojson, geojson_to_wkt\n",
    "from datetime import date\n",
    "import os\n",
    "from dotenv import load_dotenv\n",
    "load_dotenv()\n",
    "\n",
    "api = SentinelAPI(os.environ[\"id\"], os.environ[\"pass\"], 'https://apihub.copernicus.eu/apihub')\n",
    "\n",
    "#\n",
    "footprint = geojson_to_wkt(read_geojson('map.geojson'))\n",
    "products = api.query(footprint,\n",
    "                     date=(date(2023,4,1), date(2023, 4,30)),\n",
    "                     platformname='Sentinel-2',\n",
    "                     cloudcoverpercentage=(0, 15))\n"
   ]
  },
  {
   "cell_type": "code",
   "execution_count": 7,
   "metadata": {},
   "outputs": [
    {
     "name": "stdout",
     "output_type": "stream",
     "text": [
      "['3ccc2060-9edf-40f4-92a6-5edc49dc2efc', '17779aa9-4593-4328-8a09-a08091cceacb', '944e2fd5-25d2-4009-a6b2-e069a29b4875', '2abe1310-e6fa-45e1-b435-990f4d9c30d1', '57b70e6e-eddc-4517-b5fb-502fef1caa89', '9a98756b-5ef9-495e-8955-8c20dfd3f93f', 'e278709e-4cd3-459f-9dbb-7c76b28ec448', '74fc44ef-1979-492d-9152-b596d9cff80d', 'c9346200-63de-4db8-a6de-273d464e8658', '85b1e8fe-325f-493c-bcf7-7ebfdb6b7d12', '0db0a081-7268-4d75-b970-eec4d75ebdcf', 'd1464e12-b3e7-491e-969c-f6b04d5610ca', 'f82ee921-ea66-4645-8eac-47cd86ec5e1e', 'd26087e7-4d48-4f14-880a-30e1ada7adab', 'f21f5944-0e24-44dc-9576-9826324170da', '6014a746-4614-48db-a418-4bed5c35662c', 'da6ee4b4-8f96-4b42-a684-035c767fb79b', '62e4c6a2-90c8-409c-aa83-dc35e54e3234', '4c77c245-532f-4423-ab20-e3bdf7783a56', 'c3ceddc8-9680-41f1-9591-6cae1b26728a', 'e705e675-65e6-439a-9018-ca8ced52ff75', 'e5d8736d-cfb0-44b5-a452-f696f3eda5de', '800e4bd5-442d-49d6-b0af-fabaf78c36cd', 'b8568bbc-d01c-49be-889e-403e37a08ae0', '5eef26ef-44c0-4783-be38-711b85fd1012', '2aad0c25-f306-42c2-9cf4-5b08b1b432e9', 'cd7ffc91-d3fd-48c7-bdda-d8816372effc', '79385312-eb6e-45b8-b63b-e4c460db73c7', '9c3272e4-421b-41f3-a8db-9c1edd1fd464', '0221cac5-8a38-446f-b9cf-d42cbbe10c69', '5c66bbdd-79ae-41a5-b3d1-7434bef4c18c', '51d29663-4ec9-4f95-a8ea-a8cf5bec163a']\n"
     ]
    }
   ],
   "source": [
    "keys=list(products.keys())\n",
    "print(keys)\n"
   ]
  },
  {
   "cell_type": "code",
   "execution_count": 12,
   "metadata": {},
   "outputs": [
    {
     "name": "stdout",
     "output_type": "stream",
     "text": [
      "title S2A_MSIL2A_20230427T012651_N0509_R074_T54SUE_20230427T042356\n",
      "link https://apihub.copernicus.eu/apihub/odata/v1/Products('3ccc2060-9edf-40f4-92a6-5edc49dc2efc')/$value\n",
      "link_alternative https://apihub.copernicus.eu/apihub/odata/v1/Products('3ccc2060-9edf-40f4-92a6-5edc49dc2efc')/\n",
      "link_icon https://apihub.copernicus.eu/apihub/odata/v1/Products('3ccc2060-9edf-40f4-92a6-5edc49dc2efc')/Products('Quicklook')/$value\n",
      "summary Date: 2023-04-27T01:26:51.024Z, Instrument: MSI, Satellite: Sentinel-2, Size: 1.12 GB\n",
      "ondemand false\n",
      "generationdate 2023-04-27 04:23:56\n",
      "beginposition 2023-04-27 01:26:51.024000\n",
      "endposition 2023-04-27 01:26:51.024000\n",
      "ingestiondate 2023-04-27 06:03:46.924000\n",
      "orbitnumber 40969\n",
      "relativeorbitnumber 74\n",
      "illuminationazimuthangle 143.28501504069\n",
      "illuminationzenithangle 26.080697027005\n",
      "vegetationpercentage 46.894398\n",
      "notvegetatedpercentage 34.349102\n",
      "waterpercentage 15.294671\n",
      "unclassifiedpercentage 0.791275\n",
      "mediumprobacloudspercentage 0.541299\n",
      "highprobacloudspercentage 0.559066\n",
      "snowicepercentage 0.00137\n",
      "cloudcoverpercentage 2.018656\n",
      "level1cpdiidentifier S2A_OPER_MSI_L1C_TL_2APS_20230427T030851_A040969_T54SUE_N05.09\n",
      "gmlfootprint <gml:Polygon srsName=\"http://www.opengis.net/gml/srs/epsg.xml#4326\" xmlns:gml=\"http://www.opengis.net/gml\">\n",
      "   <gml:outerBoundaryIs>\n",
      "      <gml:LinearRing>\n",
      "         <gml:coordinates>36.12427601168043,138.77760353347315 36.14070199706385,139.99742868973178 35.15084307125522,140.00972076437196 35.13500195241116,138.80482996814663 36.12427601168043,138.77760353347315</gml:coordinates>\n",
      "      </gml:LinearRing>\n",
      "   </gml:outerBoundaryIs>\n",
      "</gml:Polygon>\n",
      "footprint MULTIPOLYGON (((138.80482996814663 35.13500195241116, 140.00972076437196 35.15084307125522, 139.99742868973178 36.14070199706385, 138.77760353347315 36.12427601168043, 138.80482996814663 35.13500195241116)))\n",
      "format SAFE\n",
      "processingbaseline 05.09\n",
      "platformname Sentinel-2\n",
      "filename S2A_MSIL2A_20230427T012651_N0509_R074_T54SUE_20230427T042356.SAFE\n",
      "instrumentname Multi-Spectral Instrument\n",
      "instrumentshortname MSI\n",
      "size 1.12 GB\n",
      "s2datatakeid GS2A_20230427T012651_040969_N05.09\n",
      "producttype S2MSI2A\n",
      "platformidentifier 2015-028A\n",
      "orbitdirection DESCENDING\n",
      "platformserialidentifier Sentinel-2A\n",
      "processinglevel Level-2A\n",
      "datastripidentifier S2A_OPER_MSI_L2A_DS_2APS_20230427T042356_S20230427T013356_N05.09\n",
      "granuleidentifier S2A_OPER_MSI_L2A_TL_2APS_20230427T042356_A040969_T54SUE_N05.09\n",
      "identifier S2A_MSIL2A_20230427T012651_N0509_R074_T54SUE_20230427T042356\n",
      "uuid 3ccc2060-9edf-40f4-92a6-5edc49dc2efc\n"
     ]
    }
   ],
   "source": [
    "target=products[keys[0]]\n",
    "for each in target.keys():\n",
    "    print(each,target[each],sep=\":\")"
   ]
  },
  {
   "attachments": {},
   "cell_type": "markdown",
   "metadata": {},
   "source": []
  },
  {
   "cell_type": "code",
   "execution_count": null,
   "metadata": {},
   "outputs": [],
   "source": [
    "print(os.environ[\"id\"])"
   ]
  }
 ],
 "metadata": {
  "kernelspec": {
   "display_name": "Python 3",
   "language": "python",
   "name": "python3"
  },
  "language_info": {
   "codemirror_mode": {
    "name": "ipython",
    "version": 3
   },
   "file_extension": ".py",
   "mimetype": "text/x-python",
   "name": "python",
   "nbconvert_exporter": "python",
   "pygments_lexer": "ipython3",
   "version": "3.10.6"
  },
  "orig_nbformat": 4
 },
 "nbformat": 4,
 "nbformat_minor": 2
}
